{
 "cells": [
  {
   "cell_type": "code",
   "execution_count": null,
   "metadata": {},
   "outputs": [],
   "source": [
    "# all tensorflow api is accessible through this\n",
    "import tensorflow as tf        \n",
    "# to visualize the resutls\n",
    "import matplotlib.pyplot as plt \n",
    "# 70k mnist dataset that comes with the tensorflow container\n",
    "from tensorflow.examples.tutorials.mnist import input_data\n",
    "import numpy as np"
   ]
  },
  {
   "cell_type": "code",
   "execution_count": null,
   "metadata": {},
   "outputs": [],
   "source": [
    "tf.set_random_seed(0)\n",
    "\n",
    "# load data\n",
    "mnist = input_data.read_data_sets('input/fashion_data', \n",
    "                                  source_url='http://fashion-mnist.s3-website.eu-central-1.amazonaws.com/',\n",
    "                                  one_hot=True)"
   ]
  },
  {
   "cell_type": "code",
   "execution_count": null,
   "metadata": {},
   "outputs": [],
   "source": [
    "# From: https://medium.com/tensorist/classifying-fashion-articles-using-tensorflow-fashion-mnist-f22e8a04728a\n",
    "# Our Fashion MNIST labels\n",
    "# Create dictionary of target classes\n",
    "label_dict = {\n",
    " 0: 'T-shirt/top',\n",
    " 1: 'Trouser',\n",
    " 2: 'Pullover',\n",
    " 3: 'Dress',\n",
    " 4: 'Coat',\n",
    " 5: 'Sandal',\n",
    " 6: 'Shirt',\n",
    " 7: 'Sneaker',\n",
    " 8: 'Bag',\n",
    " 9: 'Ankle boot'\n",
    "}\n",
    "\n",
    "# Take one sample\n",
    "\n",
    "# Get 28x28 image\n",
    "sample_1 = mnist.train.images[47].reshape(28,28)\n",
    "# Get corresponding integer label from one-hot encoded data\n",
    "sample_label_1 = np.where(mnist.train.labels[47] == 1)[0][0]\n",
    "# Plot sample\n",
    "print(\"y = {label_index} ({label})\".format(label_index=sample_label_1, label=label_dict[sample_label_1]))\n",
    "plt.imshow(sample_1, cmap='Greys')\n",
    "plt.show()"
   ]
  },
  {
   "cell_type": "code",
   "execution_count": null,
   "metadata": {},
   "outputs": [],
   "source": [
    "# Regularization and Tuning\n",
    "# - using \"learning rate decay\" and \"dropout\"\n",
    "# 5-layers with a separate activations\n",
    "# Neurons in each layer: 200, 100, 60, 30, 10\n",
    "\n",
    "# 1. Define Variables and Placeholders\n",
    "X = tf.placeholder(tf.float32, [None, 28, 28, 1]) # The first dimension (None) will index the images\n",
    "Y_ = tf.placeholder(tf.float32, [None, 10])       # Correct answers\n",
    "\n",
    "#learning rate placeholder\n",
    "#lr = tf.placeholder(tf.float32)\n",
    "# placeholder for probability of keeping a node during dropout = 1.0 \n",
    "# at test time (no dropout) and 0.75 at training time\n",
    "pkeep = tf.placeholder(tf.float32)\n",
    "\n",
    "# Weights initialized with small random values between -0.2 and +0.2\n",
    "W1 = tf.Variable(tf.truncated_normal([784, 200], stddev=0.1)) # 784 = 28 * 28\n",
    "B1 = tf.Variable(tf.zeros([200]))\n",
    "W2 = tf.Variable(tf.truncated_normal([200, 100], stddev=0.1))\n",
    "B2 = tf.Variable(tf.zeros([100]))\n",
    "W3 = tf.Variable(tf.truncated_normal([100, 60], stddev=0.1))\n",
    "B3 = tf.Variable(tf.zeros([60]))\n",
    "W4 = tf.Variable(tf.truncated_normal([60, 30], stddev=0.1))\n",
    "B4 = tf.Variable(tf.zeros([30]))\n",
    "W5 = tf.Variable(tf.truncated_normal([30, 10], stddev=0.1))\n",
    "B5 = tf.Variable(tf.zeros([10]))"
   ]
  },
  {
   "cell_type": "code",
   "execution_count": null,
   "metadata": {},
   "outputs": [],
   "source": [
    "# 2. Define the model\n",
    "XX = tf.reshape(X, [-1, 784]) # flatten the images into a single line of pixels\n",
    "useReLU = True\n",
    "\n",
    "if useReLU:\n",
    "    Y1 = tf.nn.relu(tf.matmul(XX, W1) + B1)\n",
    "    Y1d = tf.nn.dropout(Y1, pkeep)\n",
    "    Y2 = tf.nn.relu(tf.matmul(Y1d, W2) + B2)\n",
    "    Y2d = tf.nn.dropout(Y2, pkeep)\n",
    "    Y3 = tf.nn.relu(tf.matmul(Y2d, W3) + B3)\n",
    "    Y3d = tf.nn.dropout(Y3, pkeep)\n",
    "    Y4 = tf.nn.relu(tf.matmul(Y3d, W4) + B4)\n",
    "    Y4d = tf.nn.dropout(Y4, pkeep)\n",
    "    #Ylogits = tf.nn.relu(tf.matmul(Y4d, W5) + B5)\n",
    "    Ylogits = tf.matmul(Y4d, W5) + B5\n",
    "else:\n",
    "    Y1 = tf.nn.sigmoid(tf.matmul(XX, W1) + B1)\n",
    "    Y1d = tf.nn.dropout(Y1, pkeep)\n",
    "    Y2 = tf.nn.sigmoid(tf.matmul(Y1d, W2) + B2)\n",
    "    Y2d = tf.nn.dropout(Y2, pkeep)\n",
    "    Y3 = tf.nn.sigmoid(tf.matmul(Y2d, W3) + B3)\n",
    "    Y3d = tf.nn.dropout(Y3, pkeep)\n",
    "    Y4 = tf.nn.sigmoid(tf.matmul(Y3d, W4) + B4)\n",
    "    Y4d = tf.nn.dropout(Y4, pkeep)\n",
    "    #Ylogits = tf.nn.sigmoid(tf.matmul(Y4d, W5) + B5)\n",
    "    Ylogits = tf.matmul(Y4d, W5) + B5\n",
    "    \n",
    "Y = tf.nn.softmax(Ylogits)"
   ]
  },
  {
   "cell_type": "code",
   "execution_count": null,
   "metadata": {},
   "outputs": [],
   "source": [
    "# 3. Define the loss function  \n",
    "# WARNING: This op expects unscaled logits, since it performs a softmax on logits internally for efficiency. Do not call this op with the output of softmax, as it will produce incorrect results.\n",
    "cross_entropy = tf.nn.softmax_cross_entropy_with_logits(logits=Ylogits, labels=Y_) # calculate cross-entropy with logits\n",
    "cross_entropy = tf.reduce_mean(cross_entropy)"
   ]
  },
  {
   "cell_type": "code",
   "execution_count": null,
   "metadata": {},
   "outputs": [],
   "source": [
    "# 4. Define the accuracy\n",
    "correct_prediction = tf.equal(tf.argmax(Y, 1), tf.argmax(Y_, 1))\n",
    "accuracy = tf.reduce_mean(tf.cast(correct_prediction, tf.float32))"
   ]
  },
  {
   "cell_type": "code",
   "execution_count": null,
   "metadata": {},
   "outputs": [],
   "source": [
    "# 5. Define an optimizer - Gradient Descent Optimizer or Adam Optimizer\n",
    "\n",
    "# https://www.tensorflow.org/api_docs/python/tf/train/exponential_decay\n",
    "global_step = tf.Variable(0, trainable=False)\n",
    "starter_learning_rate = 0.005\n",
    "# decay every 100 steps with a base of 0.96\n",
    "decay_steps = 100\n",
    "decay_rate = 0.96\n",
    "# If the argument staircase is True, then global_step / decay_steps is an integer division and the decayed learning rate follows a staircase function.\n",
    "learning_rate = tf.train.exponential_decay(starter_learning_rate, global_step, decay_steps, decay_rate, staircase=True)\n",
    "\n",
    "# Note: Passing global_step to minimize() will increment it at each step.\n",
    "#train_step = tf.train.GradientDescentOptimizer(learning_rate).minimize(cross_entropy, global_step=global_step)\n",
    "train_step = tf.train.AdamOptimizer(learning_rate).minimize(cross_entropy, global_step=global_step)"
   ]
  },
  {
   "cell_type": "code",
   "execution_count": null,
   "metadata": {},
   "outputs": [],
   "source": [
    "# initialize\n",
    "init = tf.initialize_all_variables()\n",
    "sess = tf.Session()\n",
    "sess.run(init)"
   ]
  },
  {
   "cell_type": "code",
   "execution_count": null,
   "metadata": {},
   "outputs": [],
   "source": [
    "# TODO : Set value for lr at session.run()\n",
    "# TODO : Set value for pkeep at session.run() (depends on if it is training of testing)\n",
    "\n",
    "# 3. In the training step - provide the appropriate pkeep\n",
    "# 4. In the training step, if you used a placeholder - adjust learning rate - according to exponential decay rate\n",
    "def training_step(i, update_test_data, update_train_data):\n",
    "\n",
    "    print \"\\r\", i,\n",
    "    ####### actual learning \n",
    "    # reading batches of 100 images with 100 labels\n",
    "    batch_X, batch_Y = mnist.train.next_batch(100)\n",
    "    # the backpropagation training step\n",
    "    sess.run(train_step, feed_dict={XX: batch_X, Y_: batch_Y, pkeep: 0.75})\n",
    "    \n",
    "    ####### evaluating model performance for printing purposes\n",
    "    # evaluation used to later visualize how well you did at a particular time in the training\n",
    "    train_a = []\n",
    "    train_c = []\n",
    "    test_a = []\n",
    "    test_c = []\n",
    "    if update_train_data:\n",
    "        a, c = sess.run([accuracy, cross_entropy], feed_dict={XX: batch_X, Y_: batch_Y, pkeep: 1})\n",
    "        train_a.append(a)\n",
    "        train_c.append(c)\n",
    "\n",
    "    if update_test_data:\n",
    "        a, c = sess.run([accuracy, cross_entropy], feed_dict={XX: mnist.test.images, Y_: mnist.test.labels,  pkeep: 1})\n",
    "        test_a.append(a)\n",
    "        test_c.append(c)\n",
    "\n",
    "    \n",
    "    return (train_a, train_c, test_a, test_c)"
   ]
  },
  {
   "cell_type": "code",
   "execution_count": null,
   "metadata": {},
   "outputs": [],
   "source": [
    "# 6. Train and test the model, store the accuracy and loss per iteration\n",
    "\n",
    "train_a = []\n",
    "train_c = []\n",
    "test_a = []\n",
    "test_c = []\n",
    "    \n",
    "training_iter = 10000\n",
    "epoch_size = 100\n",
    "for i in range(training_iter):\n",
    "    test = False\n",
    "    if i % epoch_size == 0:\n",
    "        test = True\n",
    "    a, c, ta, tc = training_step(i, test, test)\n",
    "    train_a += a\n",
    "    train_c += c\n",
    "    test_a += ta\n",
    "    test_c += tc"
   ]
  },
  {
   "cell_type": "code",
   "execution_count": null,
   "metadata": {},
   "outputs": [],
   "source": [
    "# 7. Plot and visualise the accuracy and loss\n",
    "\n",
    "# accuracy training vs testing dataset\n",
    "plt.plot(train_a)\n",
    "plt.plot(test_a)\n",
    "plt.grid(True)\n",
    "plt.show()\n",
    "\n",
    "# loss training vs testing dataset\n",
    "plt.plot(train_c)\n",
    "plt.plot(test_c)\n",
    "plt.grid(True)\n",
    "plt.show()\n",
    "\n",
    "# Zoom in on the tail of the plots\n",
    "zoom_point = 50\n",
    "x_range = range(zoom_point,training_iter/epoch_size)\n",
    "plt.plot(x_range, train_a[zoom_point:])\n",
    "plt.plot(x_range, test_a[zoom_point:])\n",
    "plt.grid(True)\n",
    "plt.show()\n",
    "\n",
    "plt.plot(train_c[zoom_point:])\n",
    "plt.plot(test_c[zoom_point:])\n",
    "plt.grid(True)\n",
    "plt.show()"
   ]
  },
  {
   "cell_type": "code",
   "execution_count": null,
   "metadata": {},
   "outputs": [],
   "source": [
    "# Accuracy\n",
    "print(sess.run(accuracy, feed_dict={XX: mnist.test.images, Y_: mnist.test.labels, pkeep: 1}))"
   ]
  }
 ],
 "metadata": {
  "kernelspec": {
   "display_name": "Python 2",
   "language": "python",
   "name": "python2"
  },
  "language_info": {
   "codemirror_mode": {
    "name": "ipython",
    "version": 2
   },
   "file_extension": ".py",
   "mimetype": "text/x-python",
   "name": "python",
   "nbconvert_exporter": "python",
   "pygments_lexer": "ipython2",
   "version": "2.7.12"
  }
 },
 "nbformat": 4,
 "nbformat_minor": 2
}
