{
 "cells": [
  {
   "cell_type": "code",
   "execution_count": null,
   "metadata": {},
   "outputs": [],
   "source": [
    "# all tensorflow api is accessible through this\n",
    "import tensorflow as tf        \n",
    "# to visualize the resutls\n",
    "import matplotlib.pyplot as plt \n",
    "# 70k mnist dataset that comes with the tensorflow container\n",
    "from tensorflow.examples.tutorials.mnist import input_data\n",
    "import numpy as np"
   ]
  },
  {
   "cell_type": "code",
   "execution_count": null,
   "metadata": {},
   "outputs": [],
   "source": [
    "tf.set_random_seed(0)\n",
    "\n",
    "# load data\n",
    "mnist = input_data.read_data_sets('input/fashion_data', \n",
    "                                  source_url='http://fashion-mnist.s3-website.eu-central-1.amazonaws.com/',\n",
    "                                  one_hot=True)"
   ]
  },
  {
   "cell_type": "code",
   "execution_count": null,
   "metadata": {},
   "outputs": [],
   "source": [
    "# From: https://medium.com/tensorist/classifying-fashion-articles-using-tensorflow-fashion-mnist-f22e8a04728a\n",
    "# Our Fashion MNIST labels\n",
    "# Create dictionary of target classes\n",
    "label_dict = {\n",
    " 0: 'T-shirt/top',\n",
    " 1: 'Trouser',\n",
    " 2: 'Pullover',\n",
    " 3: 'Dress',\n",
    " 4: 'Coat',\n",
    " 5: 'Sandal',\n",
    " 6: 'Shirt',\n",
    " 7: 'Sneaker',\n",
    " 8: 'Bag',\n",
    " 9: 'Ankle boot'\n",
    "}\n",
    "\n",
    "# Take one sample\n",
    "\n",
    "# Get 28x28 image\n",
    "sample_1 = mnist.train.images[47].reshape(28,28)\n",
    "# Get corresponding integer label from one-hot encoded data\n",
    "sample_label_1 = np.where(mnist.train.labels[47] == 1)[0][0]\n",
    "# Plot sample\n",
    "print(\"y = {label_index} ({label})\".format(label_index=sample_label_1, label=label_dict[sample_label_1]))\n",
    "plt.imshow(sample_1, cmap='Greys')\n",
    "plt.show()"
   ]
  },
  {
   "cell_type": "code",
   "execution_count": null,
   "metadata": {},
   "outputs": [],
   "source": [
    "# One-Layer Softmax Regression \n",
    "# Model: Y = softmax(X∗W+b)\n",
    "# Loss (Cross entropy): H(Y',Y) = −∑Y'(i)⋅log(Y(i))\n",
    "\n",
    "# 1. Define Variables and Placeholders\n",
    "# the first dimension (None) will index the images in the mini-batch\n",
    "# None means dimension of any lenght - undefined number of images (vectors) of length 784\n",
    "X = tf.placeholder(tf.float32, [None, 28, 28, 1])\n",
    "Y_ = tf.placeholder(tf.float32, [None, 10])      # correct answers (labels)\n",
    "W = tf.Variable(tf.zeros([784, 10]))             # weights W[784, 10] 784=28*28\n",
    "b = tf.Variable(tf.zeros([10]))                  # biases b[10]\n",
    "XX = tf.reshape(X, [-1, 784])                    # flatten the images into a single line of pixels"
   ]
  },
  {
   "cell_type": "code",
   "execution_count": null,
   "metadata": {},
   "outputs": [],
   "source": [
    "# 2. Define the model\n",
    "# matmul = matrix multiplication\n",
    "# WARNING: This op expects unscaled logits, since it performs a softmax on logits internally for efficiency. Do not call this op with the output of softmax, as it will produce incorrect results.\n",
    "#Y = tf.nn.softmax(tf.matmul(XX, W) + b)\n",
    "Y = tf.matmul(XX, W) + b"
   ]
  },
  {
   "cell_type": "code",
   "execution_count": null,
   "metadata": {},
   "outputs": [],
   "source": [
    "# 3. Define the loss function  \n",
    "# cross_entropy = tf.reduce_mean(-tf.reduce_sum(Y_ * tf.log(Y), reduction_indices=[1]))\n",
    "cross_entropy = tf.reduce_mean(tf.nn.softmax_cross_entropy_with_logits(labels=Y_, logits=Y))"
   ]
  },
  {
   "cell_type": "code",
   "execution_count": null,
   "metadata": {},
   "outputs": [],
   "source": [
    "# 4. Define the accuracy \n",
    "correct_prediction = tf.equal(tf.argmax(Y, 1), tf.argmax(Y_, 1))\n",
    "accuracy = tf.reduce_mean(tf.cast(correct_prediction, tf.float32))"
   ]
  },
  {
   "cell_type": "code",
   "execution_count": null,
   "metadata": {},
   "outputs": [],
   "source": [
    "# 5. Define an optimizer - Gradient Descent Optimizer or Adam Optimizer\n",
    "#train_step = tf.train.GradientDescentOptimizer(0.5).minimize(cross_entropy)\n",
    "train_step = tf.train.AdamOptimizer(0.005).minimize(cross_entropy) "
   ]
  },
  {
   "cell_type": "code",
   "execution_count": null,
   "metadata": {},
   "outputs": [],
   "source": [
    "# initialize\n",
    "init = tf.initialize_all_variables()\n",
    "sess = tf.Session()\n",
    "sess.run(init)"
   ]
  },
  {
   "cell_type": "code",
   "execution_count": null,
   "metadata": {},
   "outputs": [],
   "source": [
    "def training_step(i, update_test_data, update_train_data):\n",
    "\n",
    "    print \"\\r\", i,\n",
    "    ####### actual learning \n",
    "    # reading batches of 100 images with 100 labels\n",
    "    batch_X, batch_Y = mnist.train.next_batch(100)\n",
    "    # the backpropagation training step\n",
    "    sess.run(train_step, feed_dict={XX: batch_X, Y_: batch_Y})\n",
    "    \n",
    "    ####### evaluating model performance for printing purposes\n",
    "    # evaluation used to later visualize how well you did at a particular time in the training\n",
    "    train_a = []\n",
    "    train_c = []\n",
    "    test_a = []\n",
    "    test_c = []\n",
    "    if update_train_data:\n",
    "        a, c = sess.run([accuracy, cross_entropy], feed_dict={XX: batch_X, Y_: batch_Y})\n",
    "        train_a.append(a)\n",
    "        train_c.append(c)\n",
    "\n",
    "    if update_test_data:\n",
    "        a, c = sess.run([accuracy, cross_entropy], feed_dict={XX: mnist.test.images, Y_: mnist.test.labels})\n",
    "        test_a.append(a)\n",
    "        test_c.append(c)\n",
    "\n",
    "    \n",
    "    return (train_a, train_c, test_a, test_c)"
   ]
  },
  {
   "cell_type": "code",
   "execution_count": null,
   "metadata": {},
   "outputs": [],
   "source": [
    "# 6. Train and test the model, store the accuracy and loss per iteration\n",
    "\n",
    "train_a = []\n",
    "train_c = []\n",
    "test_a = []\n",
    "test_c = []\n",
    "    \n",
    "training_iter = 10000\n",
    "epoch_size = 100\n",
    "for i in range(training_iter):\n",
    "    test = False\n",
    "    if i % epoch_size == 0:\n",
    "        test = True\n",
    "    a, c, ta, tc = training_step(i, test, test)\n",
    "    train_a += a\n",
    "    train_c += c\n",
    "    test_a += ta\n",
    "    test_c += tc"
   ]
  },
  {
   "cell_type": "code",
   "execution_count": null,
   "metadata": {},
   "outputs": [],
   "source": [
    "# 7. Plot and visualise the accuracy and loss\n",
    "\n",
    "# accuracy training vs testing dataset\n",
    "plt.plot(train_a)\n",
    "plt.plot(test_a)\n",
    "plt.grid(True)\n",
    "plt.show()\n",
    "\n",
    "# loss training vs testing dataset\n",
    "plt.plot(train_c)\n",
    "plt.plot(test_c)\n",
    "plt.grid(True)\n",
    "plt.show()\n",
    "\n",
    "# Zoom in on the tail of the plots\n",
    "zoom_point = 50\n",
    "x_range = range(zoom_point,training_iter/epoch_size)\n",
    "plt.plot(x_range, train_a[zoom_point:])\n",
    "plt.plot(x_range, test_a[zoom_point:])\n",
    "plt.grid(True)\n",
    "plt.show()\n",
    "\n",
    "plt.plot(train_c[zoom_point:])\n",
    "plt.plot(test_c[zoom_point:])\n",
    "plt.grid(True)\n",
    "plt.show()"
   ]
  },
  {
   "cell_type": "code",
   "execution_count": null,
   "metadata": {},
   "outputs": [],
   "source": [
    "# Accuracy\n",
    "print(sess.run(accuracy, feed_dict={XX: mnist.test.images, Y_: mnist.test.labels}))"
   ]
  }
 ],
 "metadata": {
  "kernelspec": {
   "display_name": "Python 2",
   "language": "python",
   "name": "python2"
  },
  "language_info": {
   "codemirror_mode": {
    "name": "ipython",
    "version": 2
   },
   "file_extension": ".py",
   "mimetype": "text/x-python",
   "name": "python",
   "nbconvert_exporter": "python",
   "pygments_lexer": "ipython2",
   "version": "2.7.12"
  }
 },
 "nbformat": 4,
 "nbformat_minor": 2
}
