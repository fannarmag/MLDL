{
 "cells": [
  {
   "cell_type": "code",
   "execution_count": 21,
   "metadata": {},
   "outputs": [],
   "source": [
    "# Music classification by genre - local notebook\n",
    "import tensorflow as tf\n",
    "from tensorflow.contrib.data import Dataset\n",
    "import numpy as np\n",
    "import matplotlib.pyplot as plt\n",
    "import glob"
   ]
  },
  {
   "cell_type": "code",
   "execution_count": 22,
   "metadata": {},
   "outputs": [],
   "source": [
    "# Our music genre labels\n",
    "label_dict = {\n",
    "    'Classical': 0,\n",
    "    'Electronic': 1,\n",
    "    'Pop': 2,\n",
    "    'HipHop': 3,\n",
    "    'Metal': 4,\n",
    "    'Rock': 5\n",
    "}\n",
    "\n",
    "NUM_CLASSES = label_dict.__len__()"
   ]
  },
  {
   "cell_type": "code",
   "execution_count": 23,
   "metadata": {},
   "outputs": [],
   "source": [
    "def input_parser(img_path, label_value):\n",
    "    label = tf.one_hot(label_value, NUM_CLASSES)\n",
    "    img_file = tf.read_file(img_path)\n",
    "    img_decoded = tf.image.decode_image(img_file, channels=1)\n",
    "\n",
    "    return img_decoded, label"
   ]
  },
  {
   "cell_type": "code",
   "execution_count": 24,
   "metadata": {},
   "outputs": [],
   "source": [
    "images = []\n",
    "labels = []\n",
    "for file in glob.glob(\"data/*.png\"):\n",
    "    # extract label\n",
    "    filename = file.split(\"/\")[len(file.split(\"/\")) - 1]\n",
    "    genre = filename.split(\"_\")[0]\n",
    "    \n",
    "    # if we can't extract the label from the image we should not train on it\n",
    "    if genre not in label_dict:\n",
    "        continue;\n",
    "    \n",
    "    images.append(file)\n",
    "    label_val = label_dict.get(genre)\n",
    "    labels.append(label_val)\n",
    "    \n",
    "# create TensorFlow Dataset objects\n",
    "data = Dataset.from_tensor_slices((images, labels))\n",
    "data = data.map(input_parser)"
   ]
  },
  {
   "cell_type": "code",
   "execution_count": null,
   "metadata": {},
   "outputs": [],
   "source": [
    "\n",
    "    \n",
    "    "
   ]
  },
  {
   "cell_type": "code",
   "execution_count": null,
   "metadata": {},
   "outputs": [],
   "source": []
  }
 ],
 "metadata": {
  "kernelspec": {
   "display_name": "Python 2",
   "language": "python",
   "name": "python2"
  },
  "language_info": {
   "codemirror_mode": {
    "name": "ipython",
    "version": 2
   },
   "file_extension": ".py",
   "mimetype": "text/x-python",
   "name": "python",
   "nbconvert_exporter": "python",
   "pygments_lexer": "ipython2",
   "version": "2.7.12"
  }
 },
 "nbformat": 4,
 "nbformat_minor": 2
}
