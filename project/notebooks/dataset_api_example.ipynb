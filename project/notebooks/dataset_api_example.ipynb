{
 "cells": [
  {
   "cell_type": "code",
   "execution_count": 1,
   "metadata": {},
   "outputs": [],
   "source": [
    "# See: https://github.com/aymericdamien/TensorFlow-Examples/blob/master/examples/5_DataManagement/tensorflow_dataset_api.py\n",
    "from __future__ import print_function\n",
    "import tensorflow as tf\n",
    "# Import MNIST data (Numpy format)\n",
    "from tensorflow.examples.tutorials.mnist import input_data"
   ]
  },
  {
   "cell_type": "code",
   "execution_count": 2,
   "metadata": {},
   "outputs": [
    {
     "name": "stdout",
     "output_type": "stream",
     "text": [
      "Successfully downloaded train-images-idx3-ubyte.gz 9912422 bytes.\n",
      "Extracting /tmp/data/train-images-idx3-ubyte.gz\n",
      "Successfully downloaded train-labels-idx1-ubyte.gz 28881 bytes.\n",
      "Extracting /tmp/data/train-labels-idx1-ubyte.gz\n",
      "Successfully downloaded t10k-images-idx3-ubyte.gz 1648877 bytes.\n",
      "Extracting /tmp/data/t10k-images-idx3-ubyte.gz\n",
      "Successfully downloaded t10k-labels-idx1-ubyte.gz 4542 bytes.\n",
      "Extracting /tmp/data/t10k-labels-idx1-ubyte.gz\n"
     ]
    }
   ],
   "source": [
    "mnist = input_data.read_data_sets(\"/tmp/data/\", one_hot=True)\n",
    "\n",
    "# Parameters\n",
    "learning_rate = 0.001\n",
    "num_steps = 2000\n",
    "batch_size = 128\n",
    "display_step = 100\n",
    "\n",
    "# Network Parameters\n",
    "n_input = 784 # MNIST data input (img shape: 28*28)\n",
    "n_classes = 10 # MNIST total classes (0-9 digits)\n",
    "dropout = 0.75 # Dropout, probability to keep units"
   ]
  },
  {
   "cell_type": "code",
   "execution_count": 3,
   "metadata": {},
   "outputs": [
    {
     "name": "stdout",
     "output_type": "stream",
     "text": [
      "WARNING:tensorflow:From <ipython-input-3-14392f389605>:5: from_tensor_slices (from tensorflow.contrib.data.python.ops.dataset_ops) is deprecated and will be removed in a future version.\n",
      "Instructions for updating:\n",
      "Use `tf.data.Dataset.from_tensor_slices()`.\n"
     ]
    }
   ],
   "source": [
    "sess = tf.Session()\n",
    "\n",
    "# Create a dataset tensor from the images and the labels\n",
    "dataset = tf.contrib.data.Dataset.from_tensor_slices(\n",
    "    (mnist.train.images, mnist.train.labels))\n",
    "# Create batches of data\n",
    "dataset = dataset.batch(batch_size)\n",
    "# Create an iterator, to go over the dataset\n",
    "iterator = dataset.make_initializable_iterator()\n",
    "# It is better to use 2 placeholders, to avoid to load all data into memory,\n",
    "# and avoid the 2Gb restriction length of a tensor.\n",
    "_data = tf.placeholder(tf.float32, [None, n_input])\n",
    "_labels = tf.placeholder(tf.float32, [None, n_classes])\n",
    "# Initialize the iterator\n",
    "sess.run(iterator.initializer, feed_dict={_data: mnist.train.images,\n",
    "                                          _labels: mnist.train.labels})\n",
    "\n",
    "# Neural Net Input\n",
    "X, Y = iterator.get_next()"
   ]
  },
  {
   "cell_type": "code",
   "execution_count": 4,
   "metadata": {},
   "outputs": [],
   "source": [
    "# -----------------------------------------------\n",
    "# THIS IS A CLASSIC CNN (see examples, section 3)\n",
    "# -----------------------------------------------\n",
    "# Note that a few elements have changed (usage of sess run).\n",
    "\n",
    "# Create model\n",
    "def conv_net(x, n_classes, dropout, reuse, is_training):\n",
    "    # Define a scope for reusing the variables\n",
    "    with tf.variable_scope('ConvNet', reuse=reuse):\n",
    "        # MNIST data input is a 1-D vector of 784 features (28*28 pixels)\n",
    "        # Reshape to match picture format [Height x Width x Channel]\n",
    "        # Tensor input become 4-D: [Batch Size, Height, Width, Channel]\n",
    "        x = tf.reshape(x, shape=[-1, 28, 28, 1])\n",
    "\n",
    "        # Convolution Layer with 32 filters and a kernel size of 5\n",
    "        conv1 = tf.layers.conv2d(x, 32, 5, activation=tf.nn.relu)\n",
    "        # Max Pooling (down-sampling) with strides of 2 and kernel size of 2\n",
    "        conv1 = tf.layers.max_pooling2d(conv1, 2, 2)\n",
    "\n",
    "        # Convolution Layer with 32 filters and a kernel size of 5\n",
    "        conv2 = tf.layers.conv2d(conv1, 64, 3, activation=tf.nn.relu)\n",
    "        # Max Pooling (down-sampling) with strides of 2 and kernel size of 2\n",
    "        conv2 = tf.layers.max_pooling2d(conv2, 2, 2)\n",
    "\n",
    "        # Flatten the data to a 1-D vector for the fully connected layer\n",
    "        fc1 = tf.contrib.layers.flatten(conv2)\n",
    "\n",
    "        # Fully connected layer (in contrib folder for now)\n",
    "        fc1 = tf.layers.dense(fc1, 1024)\n",
    "        # Apply Dropout (if is_training is False, dropout is not applied)\n",
    "        fc1 = tf.layers.dropout(fc1, rate=dropout, training=is_training)\n",
    "\n",
    "        # Output layer, class prediction\n",
    "        out = tf.layers.dense(fc1, n_classes)\n",
    "        # Because 'softmax_cross_entropy_with_logits' already apply softmax,\n",
    "        # we only apply softmax to testing network\n",
    "        out = tf.nn.softmax(out) if not is_training else out\n",
    "\n",
    "    return out\n"
   ]
  },
  {
   "cell_type": "code",
   "execution_count": 5,
   "metadata": {},
   "outputs": [],
   "source": [
    "# Because Dropout have different behavior at training and prediction time, we\n",
    "# need to create 2 distinct computation graphs that share the same weights.\n",
    "\n",
    "# Create a graph for training\n",
    "logits_train = conv_net(X, n_classes, dropout, reuse=False, is_training=True)\n",
    "# Create another graph for testing that reuse the same weights, but has\n",
    "# different behavior for 'dropout' (not applied).\n",
    "logits_test = conv_net(X, n_classes, dropout, reuse=True, is_training=False)\n",
    "\n",
    "# Define loss and optimizer (with train logits, for dropout to take effect)\n",
    "loss_op = tf.reduce_mean(tf.nn.softmax_cross_entropy_with_logits(\n",
    "    logits=logits_train, labels=Y))\n",
    "optimizer = tf.train.AdamOptimizer(learning_rate=learning_rate)\n",
    "train_op = optimizer.minimize(loss_op)\n",
    "\n",
    "# Evaluate model (with test logits, for dropout to be disabled)\n",
    "correct_pred = tf.equal(tf.argmax(logits_test, 1), tf.argmax(Y, 1))\n",
    "accuracy = tf.reduce_mean(tf.cast(correct_pred, tf.float32))\n",
    "\n",
    "# Initialize the variables (i.e. assign their default value)\n",
    "init = tf.global_variables_initializer()\n",
    "\n",
    "# Run the initializer\n",
    "sess.run(init)"
   ]
  },
  {
   "cell_type": "code",
   "execution_count": 6,
   "metadata": {},
   "outputs": [
    {
     "name": "stdout",
     "output_type": "stream",
     "text": [
      "Step 1, Minibatch Loss= 2.3444, Training Accuracy= 0.250\n",
      "Step 100, Minibatch Loss= 0.1413, Training Accuracy= 0.953\n",
      "Step 200, Minibatch Loss= 0.0960, Training Accuracy= 0.984\n",
      "Step 300, Minibatch Loss= 0.1057, Training Accuracy= 0.977\n",
      "Step 400, Minibatch Loss= 0.0561, Training Accuracy= 0.984\n",
      "Step 500, Minibatch Loss= 0.0969, Training Accuracy= 0.977\n",
      "Step 600, Minibatch Loss= 0.0721, Training Accuracy= 0.984\n",
      "Step 700, Minibatch Loss= 0.0178, Training Accuracy= 1.000\n",
      "Step 800, Minibatch Loss= 0.0534, Training Accuracy= 0.992\n",
      "Step 900, Minibatch Loss= 0.0336, Training Accuracy= 0.992\n",
      "Step 1000, Minibatch Loss= 0.0042, Training Accuracy= 0.992\n",
      "Step 1100, Minibatch Loss= 0.0244, Training Accuracy= 0.992\n",
      "Step 1200, Minibatch Loss= 0.0234, Training Accuracy= 0.992\n",
      "Step 1300, Minibatch Loss= 0.0397, Training Accuracy= 1.000\n",
      "Step 1400, Minibatch Loss= 0.0640, Training Accuracy= 1.000\n",
      "Step 1500, Minibatch Loss= 0.0061, Training Accuracy= 1.000\n",
      "Step 1600, Minibatch Loss= 0.0272, Training Accuracy= 0.992\n",
      "Step 1700, Minibatch Loss= 0.0939, Training Accuracy= 0.961\n",
      "Step 1800, Minibatch Loss= 0.0262, Training Accuracy= 0.992\n",
      "Step 1900, Minibatch Loss= 0.0303, Training Accuracy= 1.000\n",
      "Step 2000, Minibatch Loss= 0.0623, Training Accuracy= 0.992\n",
      "Optimization Finished!\n"
     ]
    }
   ],
   "source": [
    "# Training cycle\n",
    "for step in range(1, num_steps + 1):\n",
    "\n",
    "    try:\n",
    "        # Run optimization\n",
    "        sess.run(train_op)\n",
    "    except tf.errors.OutOfRangeError:\n",
    "        # Reload the iterator when it reaches the end of the dataset\n",
    "        sess.run(iterator.initializer,\n",
    "                 feed_dict={_data: mnist.train.images,\n",
    "                            _labels: mnist.train.labels})\n",
    "        sess.run(train_op)\n",
    "\n",
    "    if step % display_step == 0 or step == 1:\n",
    "        # Calculate batch loss and accuracy\n",
    "        # (note that this consume a new batch of data)\n",
    "        loss, acc = sess.run([loss_op, accuracy])\n",
    "        print(\"Step \" + str(step) + \", Minibatch Loss= \" + \\\n",
    "              \"{:.4f}\".format(loss) + \", Training Accuracy= \" + \\\n",
    "              \"{:.3f}\".format(acc))\n",
    "\n",
    "print(\"Optimization Finished!\")"
   ]
  },
  {
   "cell_type": "code",
   "execution_count": null,
   "metadata": {},
   "outputs": [],
   "source": []
  }
 ],
 "metadata": {
  "kernelspec": {
   "display_name": "Python 2",
   "language": "python",
   "name": "python2"
  },
  "language_info": {
   "codemirror_mode": {
    "name": "ipython",
    "version": 2
   },
   "file_extension": ".py",
   "mimetype": "text/x-python",
   "name": "python",
   "nbconvert_exporter": "python",
   "pygments_lexer": "ipython2",
   "version": "2.7.12"
  }
 },
 "nbformat": 4,
 "nbformat_minor": 2
}
