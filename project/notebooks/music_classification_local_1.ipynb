{
 "cells": [
  {
   "cell_type": "code",
   "execution_count": null,
   "metadata": {},
   "outputs": [],
   "source": [
    "# Music classification by genre - local notebook\n",
    "import tensorflow as tf\n",
    "from tensorflow.contrib.data import Dataset, Iterator\n",
    "import numpy as np\n",
    "import matplotlib.pyplot as plt\n",
    "import glob\n",
    "import random"
   ]
  },
  {
   "cell_type": "code",
   "execution_count": null,
   "metadata": {},
   "outputs": [],
   "source": [
    "# Our music genre labels\n",
    "label_dict = {\n",
    "    'Classical': 0,\n",
    "    'Electronic': 1,\n",
    "    'Pop': 2,\n",
    "    'HipHop': 3,\n",
    "    'Metal': 4,\n",
    "    'Rock': 5\n",
    "}\n",
    "\n",
    "NUM_CLASSES = label_dict.__len__()"
   ]
  },
  {
   "cell_type": "code",
   "execution_count": null,
   "metadata": {},
   "outputs": [],
   "source": [
    "def input_parser(img_path, label_value):\n",
    "    label = tf.one_hot(label_value, NUM_CLASSES)\n",
    "    img_file = tf.read_file(img_path)\n",
    "    img_decoded = tf.image.decode_image(img_file, channels=1)\n",
    "\n",
    "    return img_decoded, label"
   ]
  },
  {
   "cell_type": "code",
   "execution_count": null,
   "metadata": {},
   "outputs": [],
   "source": [
    "def load_and_shuffle_data():\n",
    "    data = []\n",
    "    for file in glob.glob(\"data/*.png\"):\n",
    "        # extract label\n",
    "        filename = file.split(\"/\")[len(file.split(\"/\")) - 1]\n",
    "        genre = filename.split(\"_\")[0]\n",
    "\n",
    "        # if we can't extract the label from the image we should not train on it\n",
    "        if genre not in label_dict:\n",
    "            continue;\n",
    "        \n",
    "        label_val = label_dict.get(genre)\n",
    "        data.append((file, label_val))\n",
    "    \n",
    "    random.shuffle(data)\n",
    "    return data"
   ]
  },
  {
   "cell_type": "code",
   "execution_count": null,
   "metadata": {},
   "outputs": [],
   "source": [
    "data = load_and_shuffle_data()\n",
    "images = [x[0] for x in data]\n",
    "labels = [x[1] for x in data]\n",
    "\n",
    "# create TensorFlow Dataset objects\n",
    "tf_data = Dataset.from_tensor_slices((images, labels))\n",
    "tf_data = tf_data.map(input_parser)    "
   ]
  },
  {
   "cell_type": "code",
   "execution_count": null,
   "metadata": {},
   "outputs": [],
   "source": [
    "# validate our data, plot first element\n",
    "# create TensorFlow Iterator object\n",
    "iterator = Iterator.from_structure(tf_data.output_types,\n",
    "                                   tf_data.output_shapes)\n",
    "next_element = iterator.get_next()\n",
    "\n",
    "# create two initialization ops to switch between the datasets\n",
    "training_init_op = iterator.make_initializer(tf_data)\n",
    "\n",
    "with tf.Session() as sess:\n",
    "    # initialize the iterator on the data\n",
    "    sess.run(training_init_op)\n",
    "    elem = sess.run(next_element)\n",
    "    print(\"label:\" + str(elem[1]))\n",
    "    two_d_image = elem[0].reshape(128, 128)\n",
    "    plt.imshow(two_d_image, cmap='Greys')\n",
    "    plt.show()"
   ]
  },
  {
   "cell_type": "code",
   "execution_count": null,
   "metadata": {},
   "outputs": [],
   "source": []
  },
  {
   "cell_type": "code",
   "execution_count": null,
   "metadata": {},
   "outputs": [],
   "source": []
  }
 ],
 "metadata": {
  "kernelspec": {
   "display_name": "Python 2",
   "language": "python",
   "name": "python2"
  },
  "language_info": {
   "codemirror_mode": {
    "name": "ipython",
    "version": 2
   },
   "file_extension": ".py",
   "mimetype": "text/x-python",
   "name": "python",
   "nbconvert_exporter": "python",
   "pygments_lexer": "ipython2",
   "version": "2.7.12"
  }
 },
 "nbformat": 4,
 "nbformat_minor": 2
}
